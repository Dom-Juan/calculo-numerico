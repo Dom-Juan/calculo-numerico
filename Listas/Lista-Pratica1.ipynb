{
 "metadata": {
  "language_info": {
   "codemirror_mode": {
    "name": "ipython",
    "version": 3
   },
   "file_extension": ".py",
   "mimetype": "text/x-python",
   "name": "python",
   "nbconvert_exporter": "python",
   "pygments_lexer": "ipython3",
   "version": "3.9.4"
  },
  "orig_nbformat": 2,
  "kernelspec": {
   "name": "python394jvsc74a57bd01270bd10a923ec680d62d298ca4d9b0f8dff94d02f0ceda42b2f8c49042112c1",
   "display_name": "Python 3.9.4 64-bit"
  },
  "metadata": {
   "interpreter": {
    "hash": "1270bd10a923ec680d62d298ca4d9b0f8dff94d02f0ceda42b2f8c49042112c1"
   }
  }
 },
 "nbformat": 4,
 "nbformat_minor": 2,
 "cells": [
  {
   "cell_type": "code",
   "execution_count": 2,
   "metadata": {},
   "outputs": [],
   "source": [
    "import numpy as np"
   ]
  },
  {
   "cell_type": "code",
   "execution_count": 1,
   "metadata": {},
   "outputs": [
    {
     "output_type": "stream",
     "name": "stdout",
     "text": [
      "Lista Prática Cálc. Numérico.\n"
     ]
    }
   ],
   "source": [
    "print(\"Lista Prática Cálc. Numérico.\")"
   ]
  },
  {
   "cell_type": "code",
   "execution_count": 2,
   "metadata": {},
   "outputs": [],
   "source": [
    "def _LU_(Matriz):\n",
    "    tamanho = Matriz.shape[0] # Pega o tamanho da matriz.\n",
    "    U = Matriz.copy() # Copia a matriz original para a uper.\n",
    "    L = np.eye(tamanho, dtype=np.double) # Cria uma matriz do tamanho da original para L.\n",
    "    # Indo até o tamanho da matriz.\n",
    "    for i in range(tamanho):\n",
    "        pivo = U[i+1:,i]/U[i,i] # Calcula o Pivo\n",
    "        L[i+1:,i] = pivo # A lower é composta de pivos.\n",
    "        U[i+1:] -= pivo[:, np.newaxis] * U[i] # Substrai o pivo a todas as linhas da matriz com o pivo.\n",
    "    return L, U # Retorna o resultado das duas matrizes.\n",
    "\n",
    "# Método de Cholesky visto em aula.\n",
    "# De k=0 até tamanho_matriz,faz:\n",
    "# lkk = sqrt(m[k][k])\n",
    "# de i=k até tamanho_matriz, faz:\n",
    "# lik = (aik - somatorio[m=1 até k-1](lim*lmk))/lkk\n",
    "def cholesky(Matriz):\n",
    "    Matriz2 = np.copy(Matriz)\n",
    "    tamanho = Matriz2.shape[0]\n",
    "    L = np.zeros_like(Matriz2)\n",
    "    for j in range(tamanho):\n",
    "        L[j, j] = np.sqrt(Matriz2[j, j])\n",
    "        for i in range(j + 1, tamanho):\n",
    "            L[i, j] = Matriz2[i, j] / L[j, j]\n",
    "        for k in range(j + 1, tamanho): # Começa o segundo loop.\n",
    "            for m in range(k, tamanho): # Loop da somatória.\n",
    "                Matriz2[m, k] = Matriz2[m, k] - L[k, j] * L[m, j]\n",
    "    return L # A L @ L.T tem que ser a própria matriz Original."
   ]
  },
  {
   "cell_type": "code",
   "execution_count": 3,
   "metadata": {},
   "outputs": [
    {
     "output_type": "stream",
     "name": "stdout",
     "text": [
      "\n=======================================================================\n\nExercício 1)\n"
     ]
    },
    {
     "output_type": "error",
     "ename": "NameError",
     "evalue": "name 'np' is not defined",
     "traceback": [
      "\u001b[1;31m---------------------------------------------------------------------------\u001b[0m",
      "\u001b[1;31mNameError\u001b[0m                                 Traceback (most recent call last)",
      "\u001b[1;32m<ipython-input-3-2d0cfbb9db77>\u001b[0m in \u001b[0;36m<module>\u001b[1;34m\u001b[0m\n\u001b[0;32m      2\u001b[0m \u001b[0mprint\u001b[0m\u001b[1;33m(\u001b[0m\u001b[1;34m\"Exercício 1)\"\u001b[0m\u001b[1;33m)\u001b[0m\u001b[1;33m\u001b[0m\u001b[1;33m\u001b[0m\u001b[0m\n\u001b[0;32m      3\u001b[0m \u001b[1;33m\u001b[0m\u001b[0m\n\u001b[1;32m----> 4\u001b[1;33m ex1_matriz_a = np.array([[2, -1, 1],\n\u001b[0m\u001b[0;32m      5\u001b[0m \u001b[1;33m[\u001b[0m\u001b[1;36m3\u001b[0m\u001b[1;33m,\u001b[0m \u001b[1;36m3\u001b[0m\u001b[1;33m,\u001b[0m \u001b[1;36m9\u001b[0m\u001b[1;33m]\u001b[0m\u001b[1;33m,\u001b[0m\u001b[1;33m\u001b[0m\u001b[1;33m\u001b[0m\u001b[0m\n\u001b[0;32m      6\u001b[0m [3, 3, 5]], dtype='float')\n",
      "\u001b[1;31mNameError\u001b[0m: name 'np' is not defined"
     ]
    }
   ],
   "source": [
    "print(\"\\n=======================================================================\\n\")\n",
    "print(\"Exercício 1)\")\n",
    "\n",
    "ex1_matriz_a = np.array([[2, -1, 1],\n",
    "[3, 3, 9],\n",
    "[3, 3, 5]], dtype='float')\n",
    "\n",
    "ex1_matriz_b = np.array([[1.012, -2.132, 3.104],\n",
    "[-2.132, 4.906, -7.013],\n",
    "[3.104, -7.013, 0.014]])\n",
    "\n",
    "ex1_matriz_c = np.array([[2, 0, 0, 0],\n",
    "[1, 1.5, 0, 0],\n",
    "[0, -3, 0.5, 0],\n",
    "[2, -2, 1, 1]])\n",
    "\n",
    "ex1_matriz_d = np.array([[2.1756, 4.0231, -2.1732, 5.1967],\n",
    "[-4.0231, 6.0000, 0.0000, 1.1973],\n",
    "[-1.0000, -5.2107, 1.1111, 0.0000],\n",
    "[6.0235, 7.0000, 0.0000, -4.1561]])\n",
    "\n",
    "L_a, U_a = _LU_(ex1_matriz_a)\n",
    "L_b,U_b = _LU_(ex1_matriz_b)\n",
    "L_c,U_c = _LU_(ex1_matriz_c)\n",
    "L_d,U_d = _LU_(ex1_matriz_d)\n",
    "\n",
    "print(\"a)\\n\")\n",
    "print(\"Matriz:\\n\", ex1_matriz_a)\n",
    "print(\"\\nL:\\n\",L_a)\n",
    "print(\"\\nU:\\n\",U_a)\n",
    "print(\"\\nVerificando com numpy se Matriz=L@U: \",np.allclose(ex1_matriz_a, L_a@U_a))\n",
    "print(\"\\n=======================================================================\\n\")\n",
    "\n",
    "print(\"b)\\n\")\n",
    "print(\"Matriz:\\n\", ex1_matriz_b)\n",
    "print(\"\\nL:\\n\",L_b)\n",
    "print(\"\\nU:\\n\",U_b)\n",
    "print(\"\\nVerificando com numpy se Matriz=L@U: \",np.allclose(ex1_matriz_b, L_b@U_b))\n",
    "print(\"\\n=======================================================================\\n\")\n",
    "\n",
    "print(\"c)\\n\")\n",
    "print(\"Matriz:\\n\", ex1_matriz_c)\n",
    "print(\"\\nL:\\n\",L_c)\n",
    "print(\"\\nU:\\n\",U_c)\n",
    "print(\"\\nVerificando com numpy se Matriz=L@U: \",np.allclose(ex1_matriz_c, L_c@U_c))\n",
    "print(\"\\n=======================================================================\\n\")\n",
    "\n",
    "print(\"d)\\n\")\n",
    "print(\"Matriz:\\n\", ex1_matriz_d)\n",
    "print(\"\\nL:\\n\",L_d)\n",
    "print(\"\\nU:\\n\",U_d)\n",
    "print(\"\\nVerificando com numpy se Matriz=L@U: \",np.allclose(ex1_matriz_d, L_d@U_d))\n",
    "print(\"\\n=======================================================================\\n\")"
   ]
  },
  {
   "cell_type": "code",
   "execution_count": 43,
   "metadata": {},
   "outputs": [
    {
     "output_type": "stream",
     "name": "stdout",
     "text": [
      "\n=======================================================================\n\nExercício 2)\na)\n\nMatriz:\n [[ 2. -1.  0.]\n [-1.  2. -1.]\n [ 0. -1.  2.]]\n\nL:\n [[ 2.23606798  0.          0.        ]\n [-1.78885438  1.67332005  0.        ]\n [ 0.4472136  -1.91236577  1.06904497]]\n\nComparando com o método do resultado do numpy:\n [[ 2.23606798  0.          0.        ]\n [-1.78885438  1.67332005  0.        ]\n [ 0.4472136  -1.91236577  1.06904497]]\n\nVerificando com numpy se Matriz=L@L.T:  True\n\n=======================================================================\n\nb)\n\nMatriz:\n [[ 4.  1.  1.  1.]\n [ 1.  3. -1.  1.]\n [ 1. -1.  2.  0.]\n [ 1.  1.  0.  2.]]\n\nL:\n [[ 4.35889894  0.          0.          0.        ]\n [ 1.60591014  3.06937333  0.          0.        ]\n [ 1.14707867 -1.90335441  1.03026818  0.        ]\n [ 1.60591014  1.11457691  0.2711232   1.4509525 ]]\n\nComparando com o método do resultado do numpy:\n [[ 4.35889894  0.          0.          0.        ]\n [ 1.60591014  3.06937333  0.          0.        ]\n [ 1.14707867 -1.90335441  1.03026818  0.        ]\n [ 1.60591014  1.11457691  0.2711232   1.4509525 ]]\n\nVerificando com numpy se Matriz=L@L.T:  True\n\n=======================================================================\n\nc)\n\nMatriz:\n [[ 4.  1. -1.  0.]\n [ 1.  3. -1.  0.]\n [-1. -1.  5.  2.]\n [ 0.  0.  2.  4.]]\n\nL:\n [[ 4.24264069  0.          0.          0.        ]\n [ 1.88561808  2.72845092  0.          0.        ]\n [-2.3570226  -1.66964907  4.75990719  0.        ]\n [-0.47140452 -0.40723148  3.40530909  2.83122063]]\n\nComparando com o método do resultado do numpy:\n [[ 4.24264069  0.          0.          0.        ]\n [ 1.88561808  2.72845092  0.          0.        ]\n [-2.3570226  -1.66964907  4.75990719  0.        ]\n [-0.47140452 -0.40723148  3.40530909  2.83122063]]\n\nVerificando com numpy se Matriz=L@L.T:  True\n\n=======================================================================\n\nd)\n\nMatriz:\n [[ 6.  2.  1. -1.]\n [ 2.  4.  1.  0.]\n [ 1.  1.  4. -1.]\n [-1.  0. -1.  3.]]\n\nL:\n [[ 6.4807407   0.          0.          0.        ]\n [ 3.24037035  3.24037035  0.          0.        ]\n [ 2.00594355  1.08012345  3.71611676  0.        ]\n [-1.5430335   0.6172134  -1.4992609   2.44751139]]\n\nComparando com o método do resultado do numpy:\n [[ 6.4807407   0.          0.          0.        ]\n [ 3.24037035  3.24037035  0.          0.        ]\n [ 2.00594355  1.08012345  3.71611676  0.        ]\n [-1.5430335   0.6172134  -1.4992609   2.44751139]]\n\nVerificando com numpy se Matriz=L@L.T:  True\n\n=======================================================================\n\n"
     ]
    }
   ],
   "source": [
    "print(\"\\n=======================================================================\\n\")\n",
    "print(\"Exercício 2)\")\n",
    "\"\"\"\n",
    "Método utilizado na aula.\n",
    "A = np.random.rand(5,5)\n",
    "A = A @ A.T\n",
    "b = A @ np.ones(5)\n",
    "\n",
    "Modo de resolução visto para os sistemas:\n",
    "\n",
    "Sistema original\n",
    "(L @ L.T) @ x = b\n",
    "\n",
    "Sistema modificado\n",
    "L @ Y = b\n",
    "L.T @ x = Y\n",
    "\"\"\"\n",
    "\n",
    "#=========================================================================\n",
    "#2) a)\n",
    "ex2_matriz_a = np.array([[2,-1,0], [-1,2,-1], [0,-1,2]], dtype='float')\n",
    "aux_ex2_matriz_a = ex2_matriz_a\n",
    "\n",
    "ex2_matriz_a = ex2_matriz_a @ ex2_matriz_a.T\n",
    "b1 = ex2_matriz_a @ np.ones(ex2_matriz_a.shape[0])\n",
    "L_a = cholesky(ex2_matriz_a)\n",
    "L1 = np.linalg.cholesky(ex2_matriz_a)\n",
    "#=========================================================================\n",
    "\n",
    "#2) b)\n",
    "ex2_matriz_b = np.array([[4, 1, 1, 1], [1, 3, -1, 1], [1, -1, 2, 0], [1, 1, 0, 2]], dtype='float')\n",
    "aux_ex2_matriz_b = ex2_matriz_b\n",
    "\n",
    "ex2_matriz_b = ex2_matriz_b @ ex2_matriz_b.T\n",
    "b2 = ex2_matriz_b @ np.ones(ex2_matriz_b.shape[0])\n",
    "L_b = cholesky(ex2_matriz_b)\n",
    "L2 = np.linalg.cholesky(ex2_matriz_b)\n",
    "#=========================================================================\n",
    "\n",
    "#2) c)\n",
    "ex2_matriz_c = np.array([[4, 1, -1, 0], [1, 3, -1, 0], [-1, -1, 5, 2], [0, 0, 2, 4]], dtype='float')\n",
    "aux_ex2_matriz_c = ex2_matriz_c\n",
    "\n",
    "ex2_matriz_c = ex2_matriz_c @ ex2_matriz_c.T\n",
    "b3 = ex2_matriz_c @ np.ones(ex2_matriz_c.shape[0])\n",
    "L_c = cholesky(ex2_matriz_c)\n",
    "L3 = np.linalg.cholesky(ex2_matriz_c)\n",
    "#=========================================================================\n",
    "\n",
    "#2) d)\n",
    "ex2_matriz_d = np.array([[6, 2, 1, -1], [2, 4, 1, 0], [1, 1, 4, -1], [-1, 0, -1, 3]], dtype='float')\n",
    "aux_ex2_matriz_d = ex2_matriz_d\n",
    "\n",
    "ex2_matriz_d = ex2_matriz_d @ ex2_matriz_d.T\n",
    "b4 = ex2_matriz_d @ np.ones(ex2_matriz_d.shape[0])\n",
    "L_d = cholesky(ex2_matriz_d)\n",
    "L4 = np.linalg.cholesky(ex2_matriz_d)\n",
    "#=========================================================================\n",
    "\n",
    "print(\"a)\\n\")\n",
    "print(\"Matriz:\\n\", aux_ex2_matriz_a)\n",
    "print(\"\\nL:\\n\",L_a)\n",
    "print(\"\\nComparando com o método do resultado do numpy:\\n\",L1)\n",
    "print(\"\\nVerificando com numpy se Matriz=L@L.T: \",np.allclose(ex2_matriz_a, L1@L1.T))\n",
    "print(\"\\n=======================================================================\\n\")\n",
    "\n",
    "print(\"b)\\n\")\n",
    "print(\"Matriz:\\n\", aux_ex2_matriz_b)\n",
    "print(\"\\nL:\\n\",L_b)\n",
    "print(\"\\nComparando com o método do resultado do numpy:\\n\",L2)\n",
    "print(\"\\nVerificando com numpy se Matriz=L@L.T: \",np.allclose(ex2_matriz_b, L2@L2.T))\n",
    "print(\"\\n=======================================================================\\n\")\n",
    "\n",
    "print(\"c)\\n\")\n",
    "print(\"Matriz:\\n\", aux_ex2_matriz_c)\n",
    "print(\"\\nL:\\n\",L_c)\n",
    "print(\"\\nComparando com o método do resultado do numpy:\\n\",L3)\n",
    "print(\"\\nVerificando com numpy se Matriz=L@L.T: \",np.allclose(ex2_matriz_c, L3@L3.T))\n",
    "print(\"\\n=======================================================================\\n\")\n",
    "\n",
    "print(\"d)\\n\")\n",
    "print(\"Matriz:\\n\", aux_ex2_matriz_d)\n",
    "print(\"\\nL:\\n\",L_d)\n",
    "print(\"\\nComparando com o método do resultado do numpy:\\n\",L4)\n",
    "print(\"\\nVerificando com numpy se Matriz=L@L.T: \",np.allclose(ex2_matriz_d, L4@L4.T))\n",
    "print(\"\\n=======================================================================\\n\")"
   ]
  },
  {
   "cell_type": "code",
   "execution_count": null,
   "metadata": {},
   "outputs": [],
   "source": []
  }
 ]
}